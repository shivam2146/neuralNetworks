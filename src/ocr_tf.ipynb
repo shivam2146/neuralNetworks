{
 "cells": [
  {
   "cell_type": "code",
   "execution_count": 22,
   "metadata": {},
   "outputs": [],
   "source": [
    "import tensorflow as tf\n",
    "import pandas as pd\n",
    "import numpy as np\n",
    "from matplotlib import pyplot as plt\n",
    "from sklearn.model_selection import train_test_split\n",
    "from sklearn.preprocessing import OneHotEncoder"
   ]
  },
  {
   "cell_type": "code",
   "execution_count": 32,
   "metadata": {},
   "outputs": [],
   "source": [
    "def get_data():\n",
    "    seed = 2\n",
    "    np.random.seed(seed)\n",
    "    names = [i for i in range(785)]\n",
    "    dataset = pd.read_csv('images.csv', names=names)\n",
    "    X = dataset.loc[:,1:]\n",
    "    Y = dataset.loc[:,0]\n",
    "    enc = OneHotEncoder()\n",
    "    Y = enc.fit_transform(np.array(Y).reshape(-1,1))\n",
    "    print(Y.toarray())\n",
    "    # split the data into training (67%) and testing (33%)\n",
    "    (X_train, X_test, Y_train, Y_test) = train_test_split(X, Y, test_size=0.33, random_state=seed)\n",
    "    return X_train, X_test, Y_train, Y_test"
   ]
  },
  {
   "cell_type": "code",
   "execution_count": 49,
   "metadata": {},
   "outputs": [],
   "source": [
    "def predictor():\n",
    "    X_train, X_test, Y_train, Y_test = get_data()\n",
    "    print(type(Y_train))\n",
    "    \n",
    "    n_pixels = X_train.shape[1]\n",
    "    \n",
    "    #neurons\n",
    "    n_neurons_1 = 512\n",
    "    n_neurons_2 = 256\n",
    "    n_neurons_3 = 128\n",
    "    n_target = 26\n",
    "    \n",
    "    #session\n",
    "    net = tf.InteractiveSession()\n",
    "    \n",
    "    #placeholder\n",
    "    X = tf.placeholder(dtype = tf.float32, shape=[None,n_pixels])\n",
    "    Y = tf.placeholder(dtype = tf.float32, shape = [None, n_target])\n",
    "    \n",
    "    #initializers\n",
    "    sigma = 1\n",
    "    weight_init = tf.variance_scaling_initializer(mode = \"fan_avg\",distribution=\"uniform\",scale=sigma)\n",
    "    bias_init = tf.zeros_initializer()\n",
    "    \n",
    "    #hidden weights\n",
    "    W_hidden_1 = tf.Variable(weight_init([n_pixels,n_neurons_1]))\n",
    "    bias_hidden_1 = tf.Variable(bias_init([n_neurons_1]))"
   ]
  },
  {
   "cell_type": "code",
   "execution_count": 50,
   "metadata": {},
   "outputs": [
    {
     "name": "stdout",
     "output_type": "stream",
     "text": [
      "[[1. 0. 0. ... 0. 0. 0.]\n",
      " [1. 0. 0. ... 0. 0. 0.]\n",
      " [1. 0. 0. ... 0. 0. 0.]\n",
      " ...\n",
      " [0. 0. 0. ... 0. 0. 1.]\n",
      " [0. 0. 0. ... 0. 0. 1.]\n",
      " [0. 0. 0. ... 0. 0. 1.]]\n",
      "<class 'scipy.sparse.csr.csr_matrix'>\n"
     ]
    },
    {
     "name": "stderr",
     "output_type": "stream",
     "text": [
      "/home/shivam/gitRepos/neuralNetworks/lib/python3.6/site-packages/tensorflow/python/client/session.py:1645: UserWarning: An interactive session is already active. This can cause out-of-memory errors in some cases. You must explicitly call `InteractiveSession.close()` to release resources held by the other session(s).\n",
      "  warnings.warn('An interactive session is already active. This can '\n"
     ]
    }
   ],
   "source": [
    "predictor()"
   ]
  },
  {
   "cell_type": "code",
   "execution_count": null,
   "metadata": {},
   "outputs": [],
   "source": []
  }
 ],
 "metadata": {
  "kernelspec": {
   "display_name": "Python 3",
   "language": "python",
   "name": "python3"
  },
  "language_info": {
   "codemirror_mode": {
    "name": "ipython",
    "version": 3
   },
   "file_extension": ".py",
   "mimetype": "text/x-python",
   "name": "python",
   "nbconvert_exporter": "python",
   "pygments_lexer": "ipython3",
   "version": "3.6.5"
  }
 },
 "nbformat": 4,
 "nbformat_minor": 2
}
