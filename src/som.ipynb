{
 "cells": [
  {
   "cell_type": "code",
   "execution_count": 1,
   "metadata": {},
   "outputs": [],
   "source": [
    "import tensorflow as tf\n",
    "import numpy as np"
   ]
  },
  {
   "cell_type": "code",
   "execution_count": 2,
   "metadata": {},
   "outputs": [],
   "source": [
    "def setparam(row,column,lr,r,n):\n",
    "    x = row\n",
    "    y = column\n",
    "    learning_rate = float(lr)\n",
    "    radius = float(r)\n",
    "    num_iter = n\n",
    "    return x,y,learning_rate,radius,num_iter"
   ]
  },
  {
   "cell_type": "code",
   "execution_count": 3,
   "metadata": {},
   "outputs": [],
   "source": [
    "def generate_index_matrix(x,y):\n",
    "        return tf.constant(np.array(list(iterator(x, y))))\n",
    "    \n",
    "def iterator(x, y):\n",
    "    for i in range(x):\n",
    "        for j in range(y):\n",
    "            yield np.array([i, j])"
   ]
  },
  {
   "cell_type": "code",
   "execution_count": 4,
   "metadata": {},
   "outputs": [],
   "source": [
    "x,y,learning_rate,radius,num_iter = setparam(6,6,0.5,0.5,100)\n",
    "input_dim = 4"
   ]
  },
  {
   "cell_type": "code",
   "execution_count": 5,
   "metadata": {},
   "outputs": [],
   "source": [
    "#Initializing variables and placeholders\n",
    "weights = tf.Variable(tf.random_normal([x*y, input_dim]))\n",
    "locations = generate_index_matrix(x, y)\n",
    "ip = tf.placeholder(\"float\", [input_dim])\n",
    "iter_ip = tf.placeholder(\"float\")"
   ]
  },
  {
   "cell_type": "code",
   "execution_count": 6,
   "metadata": {},
   "outputs": [],
   "source": [
    "#Calculating BMU\n",
    "input_matix = tf.stack([ip for i in range(x*y)])\n",
    "distances = tf.sqrt(tf.reduce_sum(tf.pow(tf.subtract(weights, input_matix), 2), 1))\n",
    "bmu = tf.argmin(distances, 0)\n",
    "\n",
    "#Get BMU location\n",
    "mask = tf.pad(tf.reshape(bmu, [1]), np.array([[0, 1]]))\n",
    "size = tf.cast(tf.constant(np.array([1, 2])), dtype=tf.int64)\n",
    "bmu_location = tf.reshape(tf.slice(locations, mask, size), [2])\n"
   ]
  },
  {
   "cell_type": "code",
   "execution_count": 7,
   "metadata": {},
   "outputs": [],
   "source": [
    " #Calculate learning rate and radius\n",
    "decay_function = tf.subtract(1.0, tf.div(iter_ip, num_iter))\n",
    "current_learning_rate = tf.multiply(learning_rate, decay_function)\n",
    "current_radius = tf.multiply(radius, decay_function)"
   ]
  },
  {
   "cell_type": "code",
   "execution_count": 8,
   "metadata": {},
   "outputs": [],
   "source": [
    "bmu_matrix = tf.stack([bmu_location for i in range(x*y)])\n",
    "bmu_distance = tf.reduce_sum(tf.pow(tf.subtract(locations, bmu_matrix), 2), 1)\n",
    "neighbourhood_func = tf.exp(tf.negative(tf.div(tf.cast(bmu_distance, \"float32\"), tf.pow(current_radius, 2))))\n",
    "learning_rate_matrix = tf.multiply(current_learning_rate, neighbourhood_func)"
   ]
  },
  {
   "cell_type": "code",
   "execution_count": 9,
   "metadata": {},
   "outputs": [],
   "source": [
    "#Update all the weights\n",
    "multiplytiplier = tf.stack([tf.tile(tf.slice(\n",
    "    learning_rate_matrix, np.array([i]), np.array([1])), [input_dim])\n",
    "                                   for i in range(x*y)])\n",
    "delta = tf.multiply(\n",
    "    multiplytiplier,\n",
    "    tf.subtract(tf.stack([ip for i in range(x*y)]),weights))                \n",
    "\n",
    "new_weightages = tf.add(weights, delta)\n",
    "training = tf.assign(weights, new_weightages)                                       \n",
    "\n",
    "#Initilize session and run it\n",
    "sess = tf.Session()\n",
    "initialization = tf.global_variables_initializer()\n",
    "sess.run(initialization)"
   ]
  },
  {
   "cell_type": "code",
   "execution_count": 10,
   "metadata": {},
   "outputs": [],
   "source": [
    "from sklearn.datasets import load_iris"
   ]
  },
  {
   "cell_type": "code",
   "execution_count": 11,
   "metadata": {},
   "outputs": [],
   "source": [
    "data, target = load_iris(True)"
   ]
  },
  {
   "cell_type": "code",
   "execution_count": 12,
   "metadata": {},
   "outputs": [
    {
     "data": {
      "text/plain": [
       "(150, 4)"
      ]
     },
     "execution_count": 12,
     "metadata": {},
     "output_type": "execute_result"
    }
   ],
   "source": [
    "data.shape"
   ]
  },
  {
   "cell_type": "code",
   "execution_count": 13,
   "metadata": {},
   "outputs": [
    {
     "data": {
      "text/plain": [
       "(150,)"
      ]
     },
     "execution_count": 13,
     "metadata": {},
     "output_type": "execute_result"
    }
   ],
   "source": [
    "target.shape"
   ]
  },
  {
   "cell_type": "code",
   "execution_count": 14,
   "metadata": {},
   "outputs": [],
   "source": [
    "#training\n",
    "for iter_no in range(num_iter):\n",
    "    for input_vect in data:\n",
    "        sess.run(training,\n",
    "                        feed_dict={ip: input_vect,\n",
    "                                    iter_ip: iter_no})\n",
    "\n",
    "centroid_matrix = [[] for i in range(x)]\n",
    "weights_list = list(sess.run(weights))\n",
    "locations = list(sess.run(locations))\n",
    "for i, loc in enumerate(locations):\n",
    "    centroid_matrix[loc[0]].append(weights_list[i])"
   ]
  },
  {
   "cell_type": "code",
   "execution_count": 17,
   "metadata": {},
   "outputs": [
    {
     "name": "stdout",
     "output_type": "stream",
     "text": [
      "[array([4, 3]), array([4, 4])]\n"
     ]
    }
   ],
   "source": [
    "#testing\n",
    "input_vectors= [data[0],data[1]]\n",
    "return_value = []\n",
    "for vect in input_vectors:\n",
    "    min_index = min([i for i in range(len(weights_list))],\n",
    "                        key=lambda x: np.linalg.norm(vect - weights_list[x]))\n",
    "    return_value.append(locations[min_index])\n",
    "print(return_value)"
   ]
  },
  {
   "cell_type": "code",
   "execution_count": null,
   "metadata": {},
   "outputs": [],
   "source": [
    "import matplotlib.pyplot as plt\n",
    "plt.figure(figsize=(10, 10))\n",
    "# Plotting the response for each pattern in the iris dataset\n",
    "#plt.pcolor(som.distance_map().T, cmap='bone_r')  # plotting the distance map as background\n",
    "#plt.colorbar()\n",
    "\n",
    "t = np.zeros(len(target), dtype=int)\n",
    "t[target == 0] = 0\n",
    "t[target == 1] = 1\n",
    "t[target == 2] = 2\n",
    "\n",
    "# use different colors and markers for each label\n",
    "markers = ['o', 's', 'D']\n",
    "colors = ['C0', 'C1', 'C2']\n",
    "for cnt, xx in enumerate(data):\n",
    "    #print(cnt)\n",
    "    w = som.winner(xx)  # getting the winner\n",
    "    # place a marker on the winning position for the sample xx\n",
    "    #print(colors[t[cnt]])\n",
    "    plt.plot(w[0]+.5, w[1]+.5, markers[t[cnt]], markerfacecolor='None',\n",
    "             markeredgecolor=colors[t[cnt]], markersize=12, markeredgewidth=2)\n",
    "plt.axis([0, 10, 0, 10])\n",
    "plt.savefig('iris.png')\n",
    "plt.show()"
   ]
  }
 ],
 "metadata": {
  "kernelspec": {
   "display_name": "Python 3",
   "language": "python",
   "name": "python3"
  },
  "language_info": {
   "codemirror_mode": {
    "name": "ipython",
    "version": 3
   },
   "file_extension": ".py",
   "mimetype": "text/x-python",
   "name": "python",
   "nbconvert_exporter": "python",
   "pygments_lexer": "ipython3",
   "version": "3.6.5"
  }
 },
 "nbformat": 4,
 "nbformat_minor": 2
}
