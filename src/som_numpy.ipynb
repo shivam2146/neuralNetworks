{
 "cells": [
  {
   "cell_type": "code",
   "execution_count": 1,
   "metadata": {},
   "outputs": [],
   "source": [
    "import numpy as np\n",
    "import itertools "
   ]
  },
  {
   "cell_type": "code",
   "execution_count": 2,
   "metadata": {},
   "outputs": [],
   "source": [
    "class SOM(object):\n",
    "    def __init__(self,row,col,dim_feat):\n",
    "        self.shape = (row,col,dim_feat)\n",
    "        self.som = np.zeros((row,col,dim_feat))   #initializing som with zeroes\n",
    "        \n",
    "        # Training parameters\n",
    "        self.L0 = 0.0\n",
    "        self.lam = 0.0\n",
    "        self.sigma0 = 0.0\n",
    "    \n",
    "    def train(self,data,L0,lam,sigma0,initializer=np.random.rand):\n",
    "        self.L0 = L0\n",
    "        self.lam = lam\n",
    "        self.sigma0 = sigma0\n",
    "        self.data = data\n",
    "        self.som = initializer(*self.shape)\n",
    "        \n",
    "        for t in itertools.count():\n",
    "            if self.sigma(t) < 1.0:\n",
    "                break\n",
    "            i_data =  np.random.choice(range(len(data)))\n",
    "            bmu = self.find_bmu(data[i_data])\n",
    "            self.update_som(bmu,data[i_data],t)\n",
    "    \n",
    "    def quant_err(self):\n",
    "        bmu_dists = []\n",
    "        for input_vector in self.data:\n",
    "            bmu = self.find_bmu(input_vector)\n",
    "            bmu_feat = self.som[bmu]\n",
    "            bmu_dists.append(np.linalg.norm(input_vector-bmu_feat))\n",
    "        return np.array(bmu_dists).mean()\n",
    "\n",
    "    def find_bmu(self, input_vec):\n",
    "        list_bmu = []\n",
    "        for y in range(self.shape[0]):\n",
    "            for x in range(self.shape[1]):\n",
    "                dist = np.linalg.norm((input_vec-self.som[y,x]))\n",
    "                list_bmu.append(((y,x),dist))\n",
    "        list_bmu.sort(key=lambda x: x[1])\n",
    "        return list_bmu[0][0]\n",
    "    \n",
    "    def L(self, t):\n",
    "        return self.L0*np.exp(-t/self.lam)\n",
    "    \n",
    "    def update_som(self,bmu,input_vector,t):\n",
    "        for y in range(self.shape[0]):\n",
    "            for x in range(self.shape[1]):\n",
    "                dist_to_bmu = np.linalg.norm((np.array(bmu)-np.array((y,x))))\n",
    "                self.update_cell((y,x),dist_to_bmu,input_vector,t)\n",
    "\n",
    "    def update_cell(self,cell,dist_to_bmu,input_vector,t):\n",
    "        self.som[cell] += self.N(dist_to_bmu,t)*self.L(t)*(input_vector-self.som[cell])\n",
    "\n",
    "    def N(self,dist_to_bmu,t):\n",
    "        curr_sigma = self.sigma(t)\n",
    "        return np.exp(-(dist_to_bmu**2)/(2*curr_sigma**2))\n",
    "\n",
    "    def sigma(self, t):\n",
    "        return self.sigma0*np.exp(-t/self.lam) \n"
   ]
  },
  {
   "cell_type": "code",
   "execution_count": 3,
   "metadata": {},
   "outputs": [],
   "source": [
    "from sklearn.datasets import load_iris\n",
    "iris_data = load_iris()"
   ]
  },
  {
   "cell_type": "code",
   "execution_count": 4,
   "metadata": {},
   "outputs": [],
   "source": [
    "data,target = load_iris(True)"
   ]
  },
  {
   "cell_type": "code",
   "execution_count": 5,
   "metadata": {},
   "outputs": [],
   "source": [
    "som_iris = SOM(10,10,4)\n",
    "som_iris.train(data,L0=0.5,lam=1e2,sigma0=5)"
   ]
  },
  {
   "cell_type": "code",
   "execution_count": 6,
   "metadata": {},
   "outputs": [
    {
     "data": {
      "text/plain": [
       "0.3545243820432977"
      ]
     },
     "execution_count": 6,
     "metadata": {},
     "output_type": "execute_result"
    }
   ],
   "source": [
    "som_iris.quant_err()"
   ]
  },
  {
   "cell_type": "code",
   "execution_count": 10,
   "metadata": {},
   "outputs": [
    {
     "data": {
      "image/png": "[encoded data removed]",
      "text/plain": [
       "<Figure size 720x720 with 1 Axes>"
      ]
     },
     "metadata": {
      "needs_background": "light"
     },
     "output_type": "display_data"
    }
   ],
   "source": [
    "import matplotlib.pyplot as plt\n",
    "plt.figure(figsize=(10, 10))\n",
    "# Plotting the response for each pattern in the iris dataset\n",
    "#plt.pcolor(som.distance_map().T, cmap='bone_r')  # plotting the distance map as background\n",
    "#plt.colorbar()\n",
    "\n",
    "t = np.zeros(len(target), dtype=int)\n",
    "t[target == 0] = 0\n",
    "t[target == 1] = 1\n",
    "t[target == 2] = 2\n",
    "\n",
    "# use different colors and markers for each label\n",
    "markers = ['o', 's', 'D']\n",
    "colors = ['C0', 'C1', 'C2']\n",
    "for cnt, xx in enumerate(data):\n",
    "    #print(cnt)\n",
    "    w = som_iris.find_bmu(xx)  # getting the winner\n",
    "    # place a marker on the winning position for the sample xx\n",
    "    #print(colors[t[cnt]])\n",
    "    plt.plot(w[0]+.5, w[1]+.5, markers[t[cnt]], markerfacecolor='None',\n",
    "             markeredgecolor=colors[t[cnt]], markersize=12, markeredgewidth=2)\n",
    "plt.axis([0, 10, 0, 10])\n",
    "#plt.savefig('iris.png')\n",
    "plt.show()"
   ]
  },
  {
   "cell_type": "code",
   "execution_count": 8,
   "metadata": {},
   "outputs": [
    {
     "name": "stdout",
     "output_type": "stream",
     "text": [
      "BMU (7, 0)  True label 1\n",
      "BMU (6, 2)  True label 1\n",
      "BMU (7, 8)  True label 2\n",
      "BMU (9, 7)  True label 2\n",
      "BMU (0, 1)  True label 0\n",
      "BMU (9, 9)  True label 2\n",
      "BMU (1, 0)  True label 0\n",
      "BMU (7, 0)  True label 1\n",
      "BMU (9, 9)  True label 2\n",
      "BMU (9, 9)  True label 2\n"
     ]
    }
   ],
   "source": [
    "#testing new data point\n",
    "#test = np.random.randint(10)\n",
    "for i in range(10):\n",
    "    test = np.random.randint(150)\n",
    "    #print(data[test])\n",
    "    print(\"BMU\",som_iris.find_bmu(data[test]),\" True label\", target[test])"
   ]
  },
  {
   "cell_type": "code",
   "execution_count": null,
   "metadata": {},
   "outputs": [],
   "source": []
  }
 ],
 "metadata": {
  "kernelspec": {
   "display_name": "Python 3",
   "language": "python",
   "name": "python3"
  },
  "language_info": {
   "codemirror_mode": {
    "name": "ipython",
    "version": 3
   },
   "file_extension": ".py",
   "mimetype": "text/x-python",
   "name": "python",
   "nbconvert_exporter": "python",
   "pygments_lexer": "ipython3",
   "version": "3.6.5"
  }
 },
 "nbformat": 4,
 "nbformat_minor": 2
}
